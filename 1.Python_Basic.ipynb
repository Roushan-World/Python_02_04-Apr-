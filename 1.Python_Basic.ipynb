{
 "cells": [
  {
   "cell_type": "markdown",
   "id": "049aecf4-c806-43e8-bd59-e726513c5cc4",
   "metadata": {},
   "source": [
    "# Python Basic"
   ]
  },
  {
   "cell_type": "code",
   "execution_count": 1,
   "id": "9a760834-241d-4988-b37a-be1c3848ba50",
   "metadata": {},
   "outputs": [
    {
     "name": "stdout",
     "output_type": "stream",
     "text": [
      "Hello world\n"
     ]
    }
   ],
   "source": [
    "print(\"Hello world\")"
   ]
  },
  {
   "cell_type": "code",
   "execution_count": 2,
   "id": "870ca328-8a50-4296-bbd2-34e0bbbe52d3",
   "metadata": {},
   "outputs": [
    {
     "name": "stdout",
     "output_type": "stream",
     "text": [
      "Shivam\n"
     ]
    }
   ],
   "source": [
    "print('Shivam')"
   ]
  },
  {
   "cell_type": "code",
   "execution_count": 2,
   "id": "02f6f18a-1c3d-4908-ac35-eb6be831e61a",
   "metadata": {},
   "outputs": [
    {
     "name": "stdout",
     "output_type": "stream",
     "text": [
      "3.12.2 (tags/v3.12.2:6abddd9, Feb  6 2024, 21:26:36) [MSC v.1937 64 bit (AMD64)]\n"
     ]
    }
   ],
   "source": [
    "# python version check\n",
    "\n",
    "import sys   # sys-> system\n",
    "\n",
    "print(sys.version)"
   ]
  },
  {
   "cell_type": "code",
   "execution_count": 3,
   "id": "e8ea9aef-43ce-4931-87bd-59bb81595c44",
   "metadata": {},
   "outputs": [
    {
     "name": "stdout",
     "output_type": "stream",
     "text": [
      "Hello world\n"
     ]
    }
   ],
   "source": [
    "print('Hello world')"
   ]
  },
  {
   "cell_type": "code",
   "execution_count": 4,
   "id": "c81f6dd0-1ee6-49ab-9592-9bbd28f6e204",
   "metadata": {},
   "outputs": [
    {
     "name": "stdout",
     "output_type": "stream",
     "text": [
      "Hello Python\n"
     ]
    }
   ],
   "source": [
    "print('Hello Python')"
   ]
  },
  {
   "cell_type": "code",
   "execution_count": 5,
   "id": "b430801d-16a3-4c84-8e6a-8787fcdcb360",
   "metadata": {},
   "outputs": [
    {
     "name": "stdout",
     "output_type": "stream",
     "text": [
      "Hello\n"
     ]
    }
   ],
   "source": [
    "print('Hello')"
   ]
  },
  {
   "cell_type": "code",
   "execution_count": 6,
   "id": "7a422364-ea77-4ba9-933d-09ebdd989416",
   "metadata": {},
   "outputs": [
    {
     "name": "stdout",
     "output_type": "stream",
     "text": [
      "Hello world\n"
     ]
    }
   ],
   "source": [
    "# ''  --> Single quotes\n",
    "\n",
    "# \"\" --> Double quotes.\n",
    "\n",
    "# \"\"\"\"\"\" ---> Triple quotes\n",
    "\n",
    "# '''''' ---> Truple quotes\n",
    "\n",
    "\n",
    "print('Hello world')"
   ]
  },
  {
   "cell_type": "code",
   "execution_count": 7,
   "id": "fcdd6d5c-0eeb-451a-ae5a-c4d45a9f523e",
   "metadata": {},
   "outputs": [
    {
     "name": "stdout",
     "output_type": "stream",
     "text": [
      "Hello world\n"
     ]
    }
   ],
   "source": [
    "print(\"Hello world\")"
   ]
  },
  {
   "cell_type": "code",
   "execution_count": 8,
   "id": "c5ad54b2-8be5-4dbd-8deb-7239bb061cde",
   "metadata": {},
   "outputs": [],
   "source": [
    "# print --> Print is a keyword to display the output.\n"
   ]
  },
  {
   "cell_type": "code",
   "execution_count": 11,
   "id": "7901bf6b-31fb-4d1f-b61a-a34c4342f8bc",
   "metadata": {},
   "outputs": [],
   "source": [
    "# comment: you can write comment using '#'"
   ]
  },
  {
   "cell_type": "code",
   "execution_count": 12,
   "id": "4af3e848-7f5f-476f-b01c-47bc8fc3c473",
   "metadata": {},
   "outputs": [
    {
     "name": "stdout",
     "output_type": "stream",
     "text": [
      "Hello world\n",
      "This is a string\n",
      "Hello Pune\n"
     ]
    }
   ],
   "source": [
    "print('Hello world')\n",
    "print(\"This is a string\")\n",
    "print('Hello Pune')"
   ]
  },
  {
   "cell_type": "code",
   "execution_count": 13,
   "id": "ceae5699-2344-4305-9bd7-7b1754e17871",
   "metadata": {},
   "outputs": [
    {
     "name": "stdout",
     "output_type": "stream",
     "text": [
      "hello\n",
      "100\n",
      "2000\n"
     ]
    }
   ],
   "source": [
    "# string\n",
    "print('hello')\n",
    "print('100')\n",
    "print('2000')"
   ]
  },
  {
   "cell_type": "code",
   "execution_count": 14,
   "id": "fc387c83-16df-4996-bc9b-096d6049e693",
   "metadata": {},
   "outputs": [
    {
     "data": {
      "text/plain": [
       "4"
      ]
     },
     "execution_count": 14,
     "metadata": {},
     "output_type": "execute_result"
    }
   ],
   "source": [
    "2+2"
   ]
  },
  {
   "cell_type": "code",
   "execution_count": 15,
   "id": "d59c4521-d707-45d3-a1da-198747d8b89a",
   "metadata": {},
   "outputs": [
    {
     "data": {
      "text/plain": [
       "300"
      ]
     },
     "execution_count": 15,
     "metadata": {},
     "output_type": "execute_result"
    }
   ],
   "source": [
    "100+200"
   ]
  },
  {
   "cell_type": "code",
   "execution_count": 16,
   "id": "bae2a321-484d-4e6d-bdc5-a089f3891e3e",
   "metadata": {},
   "outputs": [
    {
     "data": {
      "text/plain": [
       "'100200'"
      ]
     },
     "execution_count": 16,
     "metadata": {},
     "output_type": "execute_result"
    }
   ],
   "source": [
    "'100'+'200'   # string can't be perform addition it works like concatenation."
   ]
  },
  {
   "cell_type": "code",
   "execution_count": 17,
   "id": "624e53c2-542c-4ed3-8fde-acc95ef1c726",
   "metadata": {},
   "outputs": [
    {
     "data": {
      "text/plain": [
       "400"
      ]
     },
     "execution_count": 17,
     "metadata": {},
     "output_type": "execute_result"
    }
   ],
   "source": [
    "200+200"
   ]
  },
  {
   "cell_type": "code",
   "execution_count": 18,
   "id": "a253eb99-6a78-4ce9-9d16-e922641c299d",
   "metadata": {},
   "outputs": [
    {
     "name": "stdout",
     "output_type": "stream",
     "text": [
      "He is good boy\n"
     ]
    }
   ],
   "source": [
    "print('He is good boy')"
   ]
  },
  {
   "cell_type": "code",
   "execution_count": 19,
   "id": "d59e4e77-410b-42b5-be08-650d60022d72",
   "metadata": {},
   "outputs": [
    {
     "ename": "SyntaxError",
     "evalue": "invalid syntax (2283479775.py, line 1)",
     "output_type": "error",
     "traceback": [
      "\u001b[1;36m  Cell \u001b[1;32mIn[19], line 1\u001b[1;36m\u001b[0m\n\u001b[1;33m    Hello world\u001b[0m\n\u001b[1;37m          ^\u001b[0m\n\u001b[1;31mSyntaxError\u001b[0m\u001b[1;31m:\u001b[0m invalid syntax\n"
     ]
    }
   ],
   "source": [
    "Hello world"
   ]
  },
  {
   "cell_type": "code",
   "execution_count": 20,
   "id": "51bb59de-d9ff-4ecf-921a-a1292dec3b5f",
   "metadata": {},
   "outputs": [
    {
     "data": {
      "text/plain": [
       "100"
      ]
     },
     "execution_count": 20,
     "metadata": {},
     "output_type": "execute_result"
    }
   ],
   "source": [
    "100"
   ]
  },
  {
   "cell_type": "code",
   "execution_count": 21,
   "id": "ab183ca4-4018-4807-ad08-d12fc37c057f",
   "metadata": {},
   "outputs": [
    {
     "data": {
      "text/plain": [
       "'100'"
      ]
     },
     "execution_count": 21,
     "metadata": {},
     "output_type": "execute_result"
    }
   ],
   "source": [
    "'100'"
   ]
  },
  {
   "cell_type": "code",
   "execution_count": 25,
   "id": "477d25fc-80a1-4a67-bf53-7f65a48bfd44",
   "metadata": {},
   "outputs": [
    {
     "ename": "NameError",
     "evalue": "name 'abc100' is not defined",
     "output_type": "error",
     "traceback": [
      "\u001b[1;31m---------------------------------------------------------------------------\u001b[0m",
      "\u001b[1;31mNameError\u001b[0m                                 Traceback (most recent call last)",
      "Cell \u001b[1;32mIn[25], line 1\u001b[0m\n\u001b[1;32m----> 1\u001b[0m \u001b[38;5;28mprint\u001b[39m(\u001b[43mabc100\u001b[49m)\n",
      "\u001b[1;31mNameError\u001b[0m: name 'abc100' is not defined"
     ]
    }
   ],
   "source": [
    "print(abc100)"
   ]
  },
  {
   "cell_type": "code",
   "execution_count": 26,
   "id": "bc86ad67-4b02-4acf-b0cd-ec5786a0fb3a",
   "metadata": {},
   "outputs": [
    {
     "data": {
      "text/plain": [
       "'abc100'"
      ]
     },
     "execution_count": 26,
     "metadata": {},
     "output_type": "execute_result"
    }
   ],
   "source": [
    "\"abc100\""
   ]
  },
  {
   "cell_type": "code",
   "execution_count": 27,
   "id": "fe98c260-8382-411e-bbe8-d600b2566247",
   "metadata": {},
   "outputs": [
    {
     "name": "stdout",
     "output_type": "stream",
     "text": [
      "Hello world\n",
      "100\n",
      "Hello Python\n",
      "100\n",
      "1000\n",
      "200\n",
      "2000\n",
      "100.0\n",
      "200.36\n",
      "1000.56\n",
      "True\n",
      "False\n"
     ]
    }
   ],
   "source": [
    "# Python Data types \n",
    "\n",
    "# 1). string\n",
    "print('Hello world')\n",
    "print('100')\n",
    "print(\"Hello Python\")\n",
    "\n",
    "# 2). Integer  # without a decimal value\n",
    "print(100)\n",
    "print(1000)\n",
    "print(200)\n",
    "print(2000)\n",
    "\n",
    "# 3).float # with a decimal value\n",
    "print(100.0)\n",
    "print(200.36)\n",
    "print(1000.56)\n",
    "\n",
    "# 4). Boolean\n",
    "print(True)\n",
    "print(False)"
   ]
  },
  {
   "cell_type": "code",
   "execution_count": 44,
   "id": "85ef1f29-f340-420f-aa87-48226fb9a5cc",
   "metadata": {},
   "outputs": [
    {
     "name": "stdout",
     "output_type": "stream",
     "text": [
      "<class 'str'>\n",
      "<class 'str'>\n",
      "<class 'str'>\n",
      "<class 'int'>\n",
      "<class 'int'>\n",
      "<class 'int'>\n",
      "<class 'float'>\n",
      "<class 'float'>\n",
      "<class 'float'>\n",
      "<class 'str'>\n",
      "<class 'bool'>\n",
      "<class 'bool'>\n"
     ]
    }
   ],
   "source": [
    "# type() function\n",
    "\n",
    "# string\n",
    "\n",
    "print(type(\"Hello Abhishek\"))   # str is shortform of string\n",
    "print(type('Hello world'))   # string\n",
    "print(type('1000'))   # string\n",
    "\n",
    "\n",
    "\n",
    "# Inetger   # withour a decimal point\n",
    "print(type(100))\n",
    "print(type(200))\n",
    "print(type(10000))\n",
    "\n",
    "\n",
    "# float   # with a decimal point\n",
    "print(type(100.0))\n",
    "print(type(200.23))\n",
    "print(type(10000.56))\n",
    "print(type('156.23'))   # it is string bcz it is in string\n",
    "\n",
    "\n",
    "\n",
    "# Boolean\n",
    "\n",
    "print(type(True))   # T is always in capital \n",
    "print(type(False))"
   ]
  },
  {
   "cell_type": "code",
   "execution_count": 60,
   "id": "c0ec7239-0297-434b-8d86-91338619c379",
   "metadata": {},
   "outputs": [
    {
     "name": "stdout",
     "output_type": "stream",
     "text": [
      "100\n",
      "<class 'int'>\n",
      "100.0\n",
      "<class 'float'>\n",
      "100\n",
      "<class 'str'>\n"
     ]
    }
   ],
   "source": [
    "# Data typecasting   # Change their data type\n",
    "\n",
    "num=100                      # num is a variable and its data type is integer\n",
    "print(num)\n",
    "print(type(num))\n",
    "\n",
    "# float, string\n",
    "\n",
    "print(float(num))   # 100.0\n",
    "print(type(float(num)))\n",
    "\n",
    "\n",
    "# string\n",
    "print(str(num))\n",
    "print(type(str(num)))"
   ]
  },
  {
   "cell_type": "code",
   "execution_count": 66,
   "id": "dfba0050-1cf9-44f6-ac1e-6c39ec2cf353",
   "metadata": {},
   "outputs": [
    {
     "name": "stdout",
     "output_type": "stream",
     "text": [
      "3.14\n",
      "<class 'float'>\n",
      "3.14\n",
      "<class 'str'>\n",
      "3\n",
      "<class 'int'>\n"
     ]
    }
   ],
   "source": [
    "number=3.14\n",
    "print(number)\n",
    "print(type(number))\n",
    "\n",
    "# string,integer\n",
    "print(str(number))\n",
    "print(type(str(number)))\n",
    "\n",
    "# integer\n",
    "print(int(number))   # without decimal value\n",
    "print(type(int(number)))"
   ]
  },
  {
   "cell_type": "code",
   "execution_count": 73,
   "id": "e4b852d3-e2d2-45d5-8fa8-39fa00323bb3",
   "metadata": {},
   "outputs": [
    {
     "name": "stdout",
     "output_type": "stream",
     "text": [
      "True\n",
      "<class 'bool'>\n",
      "1\n",
      "<class 'int'>\n",
      "True\n",
      "<class 'str'>\n",
      "1.0\n",
      "<class 'float'>\n"
     ]
    }
   ],
   "source": [
    "bool_1=True\n",
    "print(bool_1)\n",
    "print(type(bool_1))\n",
    "\n",
    "\n",
    "# integer, string, float\n",
    "print(int(bool_1))\n",
    "print(type(int(bool_1)))\n",
    "\n",
    "# string  True\n",
    "print(str(bool_1))\n",
    "print(type(str(bool_1)))\n",
    "\n",
    "\n",
    "# float 1.0\n",
    "print(float(bool_1))\n",
    "print(type(float(bool_1)))"
   ]
  },
  {
   "cell_type": "code",
   "execution_count": 80,
   "id": "1ea826e6-0fc1-49dc-ab51-70cedfa4d059",
   "metadata": {},
   "outputs": [
    {
     "name": "stdout",
     "output_type": "stream",
     "text": [
      "False\n",
      "<class 'bool'>\n",
      "False\n",
      "<class 'str'>\n",
      "0.0\n",
      "<class 'float'>\n",
      "0\n",
      "<class 'int'>\n"
     ]
    }
   ],
   "source": [
    "bool_2=False\n",
    "print(bool_2)\n",
    "print(type(bool_2))\n",
    "\n",
    "# string, float, integer\n",
    "\n",
    "print(str(bool_2))\n",
    "print(type(str(bool_2)))\n",
    "\n",
    "# float = 0.0\n",
    "print(float(bool_2))\n",
    "print(type(float(bool_2)))\n",
    "\n",
    "# integer = 0\n",
    "print(int(bool_2))\n",
    "print(type(int(bool_2)))"
   ]
  },
  {
   "cell_type": "code",
   "execution_count": 84,
   "id": "d5562ef1-7143-4abb-8ab6-eeea1361ace8",
   "metadata": {},
   "outputs": [
    {
     "name": "stdout",
     "output_type": "stream",
     "text": [
      "3.0\n",
      "3\n",
      "<class 'float'>\n",
      "<class 'int'>\n"
     ]
    }
   ],
   "source": [
    "# find their data types with perform calculation\n",
    "\n",
    "print(9/3)   # forward slash (float division)\n",
    "print(9//3)   # division\n",
    "\n",
    "print(type(9/3))\n",
    "print(type(9//3))"
   ]
  },
  {
   "cell_type": "code",
   "execution_count": 86,
   "id": "c9312a0f-11dd-4d5a-bcda-6e59bfc9f736",
   "metadata": {},
   "outputs": [
    {
     "name": "stdout",
     "output_type": "stream",
     "text": [
      "-1\n",
      "<class 'int'>\n"
     ]
    }
   ],
   "source": [
    "# Expression and Variable\n",
    "\n",
    "x = 89+45+63+78-92*3   # Expression and x is variable  # Bodmas\n",
    "print(x)\n",
    "print(type(x))"
   ]
  },
  {
   "cell_type": "code",
   "execution_count": 87,
   "id": "f89000b9-3e26-4cb0-96b8-2ca9414c22ad",
   "metadata": {},
   "outputs": [
    {
     "name": "stdout",
     "output_type": "stream",
     "text": [
      "-111\n"
     ]
    }
   ],
   "source": [
    "# substraction\n",
    "\n",
    "x = 78-89-100\n",
    "print(x)"
   ]
  },
  {
   "cell_type": "code",
   "execution_count": 88,
   "id": "eb1fbf19-fd23-4df3-ae6a-b489feae7da2",
   "metadata": {},
   "outputs": [
    {
     "name": "stdout",
     "output_type": "stream",
     "text": [
      "624\n"
     ]
    }
   ],
   "source": [
    "# Multiplication\n",
    "\n",
    "x=8*78\n",
    "print(x)"
   ]
  },
  {
   "cell_type": "code",
   "execution_count": 90,
   "id": "99b6b3ac-64e0-49fc-aa8c-7ec0f018c4e5",
   "metadata": {},
   "outputs": [
    {
     "name": "stdout",
     "output_type": "stream",
     "text": [
      "5.208333333333333\n",
      "<class 'float'>\n"
     ]
    }
   ],
   "source": [
    "# Division\n",
    "\n",
    "x = 125/24\n",
    "print(x)\n",
    "print(type(x))"
   ]
  },
  {
   "cell_type": "code",
   "execution_count": 92,
   "id": "6d82e84e-fcc8-4a2d-834c-ebcb47b14eeb",
   "metadata": {},
   "outputs": [
    {
     "name": "stdout",
     "output_type": "stream",
     "text": [
      "5\n",
      "<class 'int'>\n"
     ]
    }
   ],
   "source": [
    "# floor division\n",
    "\n",
    "x = 125//24\n",
    "print(x)\n",
    "print(type(x))"
   ]
  },
  {
   "cell_type": "code",
   "execution_count": 95,
   "id": "b1bfc26a-a5de-42da-acd0-6c272ac5556f",
   "metadata": {},
   "outputs": [
    {
     "name": "stdout",
     "output_type": "stream",
     "text": [
      "0\n"
     ]
    }
   ],
   "source": [
    "# Modulus\n",
    "x=10%2\n",
    "print(x)"
   ]
  },
  {
   "cell_type": "code",
   "execution_count": 96,
   "id": "bb50cf08-fbd5-4bb4-b151-0fceec434a48",
   "metadata": {},
   "outputs": [
    {
     "name": "stdout",
     "output_type": "stream",
     "text": [
      "1\n"
     ]
    }
   ],
   "source": [
    "y=10%3\n",
    "print(y)"
   ]
  },
  {
   "cell_type": "code",
   "execution_count": 97,
   "id": "e6c48f58-8dea-4a78-8b62-e36bc2f5b796",
   "metadata": {},
   "outputs": [
    {
     "name": "stdout",
     "output_type": "stream",
     "text": [
      "8\n"
     ]
    }
   ],
   "source": [
    "# Exponent\n",
    "x=2**3   # 2x2x2=8\n",
    "print(x)"
   ]
  },
  {
   "cell_type": "code",
   "execution_count": 98,
   "id": "446173b2-99e9-4515-a843-3a7f7bc8e9bf",
   "metadata": {},
   "outputs": [
    {
     "name": "stdout",
     "output_type": "stream",
     "text": [
      "27\n"
     ]
    }
   ],
   "source": [
    "x=3**3     # 3x3x3=27\n",
    "print(x)"
   ]
  },
  {
   "cell_type": "code",
   "execution_count": 100,
   "id": "2a322c0d-9d9c-451c-8c37-53d312e67bef",
   "metadata": {},
   "outputs": [
    {
     "name": "stdout",
     "output_type": "stream",
     "text": [
      "3000 minutes\n"
     ]
    }
   ],
   "source": [
    "# An Example: Let's calculate how many minutes are there in 50 hrs.\n",
    "\n",
    "one_hrs= 60 \n",
    "hours= 50\n",
    "\n",
    "minutes= one_hrs*hours\n",
    "print(minutes,'minutes')"
   ]
  },
  {
   "cell_type": "code",
   "execution_count": 102,
   "id": "7856da4a-932c-4919-b73b-5029b374c6b9",
   "metadata": {},
   "outputs": [
    {
     "name": "stdout",
     "output_type": "stream",
     "text": [
      "9.033333333333333 Hours\n"
     ]
    }
   ],
   "source": [
    "# An Example: Let's calculate how many hours there are in 542 minutes.\n",
    "\n",
    "minutes=542\n",
    "one_hours= 60\n",
    "\n",
    "hours= minutes/one_hrs\n",
    "print(hours,'Hours')"
   ]
  },
  {
   "cell_type": "code",
   "execution_count": null,
   "id": "e0134337-cfc5-48c7-89a2-f2dd9a52e958",
   "metadata": {},
   "outputs": [],
   "source": []
  }
 ],
 "metadata": {
  "kernelspec": {
   "display_name": "Python 3 (ipykernel)",
   "language": "python",
   "name": "python3"
  },
  "language_info": {
   "codemirror_mode": {
    "name": "ipython",
    "version": 3
   },
   "file_extension": ".py",
   "mimetype": "text/x-python",
   "name": "python",
   "nbconvert_exporter": "python",
   "pygments_lexer": "ipython3",
   "version": "3.12.2"
  }
 },
 "nbformat": 4,
 "nbformat_minor": 5
}

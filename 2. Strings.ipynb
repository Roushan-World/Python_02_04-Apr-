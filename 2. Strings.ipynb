{
 "cells": [
  {
   "cell_type": "markdown",
   "id": "52c70d56-cdf3-4541-8c34-185b149a31f1",
   "metadata": {},
   "source": [
    "# 2. Strings in Python\n"
   ]
  },
  {
   "cell_type": "code",
   "execution_count": 1,
   "id": "addee191-b1c0-438e-92a9-59ac2ddd6412",
   "metadata": {},
   "outputs": [
    {
     "name": "stdout",
     "output_type": "stream",
     "text": [
      "Hello world\n",
      "Hello world\n"
     ]
    }
   ],
   "source": [
    "print('Hello world')\n",
    "print(\"Hello world\")"
   ]
  },
  {
   "cell_type": "code",
   "execution_count": 2,
   "id": "1b9e79a8-ca41-4dea-8e61-3323bdc4c752",
   "metadata": {},
   "outputs": [
    {
     "name": "stdout",
     "output_type": "stream",
     "text": [
      "123456\n",
      "12.0\n",
      "!@#$%\n"
     ]
    }
   ],
   "source": [
    "# number \n",
    "\n",
    "print('123456')\n",
    "print('12.0')\n",
    "print(\"!@#$%\")"
   ]
  },
  {
   "cell_type": "markdown",
   "id": "99ba47cc-0fdd-4424-baff-5ea98b3dfc33",
   "metadata": {},
   "source": [
    "# Indexing of a string"
   ]
  },
  {
   "cell_type": "code",
   "execution_count": 8,
   "id": "0fb41879-94f5-48f3-b418-8a4f1dd51e96",
   "metadata": {},
   "outputs": [
    {
     "name": "stdout",
     "output_type": "stream",
     "text": [
      "Hello world\n"
     ]
    }
   ],
   "source": [
    "# Numberline [-ve 0 +ve]\n",
    "message=\"Hello world\"\n",
    "print(message)"
   ]
  },
  {
   "cell_type": "code",
   "execution_count": 9,
   "id": "a1458c5e-d13e-4692-a621-882143ba4747",
   "metadata": {},
   "outputs": [
    {
     "name": "stdout",
     "output_type": "stream",
     "text": [
      "H\n",
      "e\n",
      "l\n",
      "l\n",
      "o\n",
      " \n",
      "w\n",
      "o\n",
      "r\n",
      "l\n",
      "d\n"
     ]
    }
   ],
   "source": [
    "# positive index\n",
    "print(message[0])\n",
    "print(message[1])\n",
    "print(message[2])\n",
    "print(message[3])\n",
    "print(message[4])\n",
    "print(message[5])\n",
    "print(message[6])\n",
    "print(message[7])\n",
    "print(message[8])\n",
    "print(message[9])\n",
    "print(message[10])"
   ]
  },
  {
   "cell_type": "code",
   "execution_count": 10,
   "id": "70eae84a-339c-440a-b034-38a3e1d47281",
   "metadata": {},
   "outputs": [
    {
     "name": "stdout",
     "output_type": "stream",
     "text": [
      "11\n"
     ]
    }
   ],
   "source": [
    "# print lenght of the string len()\n",
    "print(len(message))"
   ]
  },
  {
   "cell_type": "code",
   "execution_count": 11,
   "id": "44ec2cd3-15e8-46d1-bad1-a4ae2b5a2326",
   "metadata": {},
   "outputs": [
    {
     "name": "stdout",
     "output_type": "stream",
     "text": [
      "d\n",
      "l\n",
      "r\n",
      "o\n",
      "w\n",
      " \n",
      "o\n",
      "l\n",
      "l\n",
      "e\n",
      "H\n"
     ]
    }
   ],
   "source": [
    "# Negative index\n",
    "\n",
    "msg1='Hello world'\n",
    "\n",
    "print(msg1[-1])\n",
    "print(msg1[-2])\n",
    "print(msg1[-3])\n",
    "print(msg1[-4])\n",
    "print(msg1[-5])\n",
    "print(msg1[-6])\n",
    "print(msg1[-7])\n",
    "print(msg1[-8])\n",
    "print(msg1[-9])\n",
    "print(msg1[-10])\n",
    "print(msg1[-11])"
   ]
  },
  {
   "cell_type": "markdown",
   "id": "8927d75f-f8f8-4a89-b86f-c753b542bb09",
   "metadata": {},
   "source": [
    "# slicing of string"
   ]
  },
  {
   "cell_type": "code",
   "execution_count": 12,
   "id": "938170c5-f066-4b82-a5fa-ee9ca95acbaa",
   "metadata": {},
   "outputs": [
    {
     "name": "stdout",
     "output_type": "stream",
     "text": [
      "Hello world\n"
     ]
    }
   ],
   "source": [
    "msg2=\"Hello world\"\n",
    "\n",
    "print(msg2)"
   ]
  },
  {
   "cell_type": "code",
   "execution_count": 14,
   "id": "d3ea026c-2e53-492f-adb3-ba1bddbbc3d0",
   "metadata": {},
   "outputs": [
    {
     "data": {
      "text/plain": [
       "'Hell'"
      ]
     },
     "execution_count": 14,
     "metadata": {},
     "output_type": "execute_result"
    }
   ],
   "source": [
    "# slicing\n",
    "\n",
    "msg2[0:4]"
   ]
  },
  {
   "cell_type": "code",
   "execution_count": 15,
   "id": "99a25d8a-6d35-4ef6-80b1-54cce75628f9",
   "metadata": {},
   "outputs": [
    {
     "data": {
      "text/plain": [
       "'Hello'"
      ]
     },
     "execution_count": 15,
     "metadata": {},
     "output_type": "execute_result"
    }
   ],
   "source": [
    "msg2[0:5]"
   ]
  },
  {
   "cell_type": "code",
   "execution_count": 16,
   "id": "10580768-5dd8-44e7-914c-23af4f443a79",
   "metadata": {},
   "outputs": [
    {
     "name": "stdout",
     "output_type": "stream",
     "text": [
      "world\n"
     ]
    }
   ],
   "source": [
    "print(msg2[6:11])"
   ]
  },
  {
   "cell_type": "code",
   "execution_count": 17,
   "id": "599d56ff-b8df-4864-a2e2-c3a0832ff715",
   "metadata": {},
   "outputs": [],
   "source": [
    "# skip value"
   ]
  },
  {
   "cell_type": "code",
   "execution_count": 19,
   "id": "80519006-4ac1-43e0-a585-2465ba80ca99",
   "metadata": {},
   "outputs": [
    {
     "data": {
      "text/plain": [
       "'Hello world'"
      ]
     },
     "execution_count": 19,
     "metadata": {},
     "output_type": "execute_result"
    }
   ],
   "source": [
    "msg3='Hello world'\n",
    "msg3"
   ]
  },
  {
   "cell_type": "code",
   "execution_count": 22,
   "id": "38e269b2-cffa-4f04-a50f-185ed6f8afbc",
   "metadata": {},
   "outputs": [
    {
     "name": "stdout",
     "output_type": "stream",
     "text": [
      "Hlo\n"
     ]
    }
   ],
   "source": [
    "print(msg3[0:5:2])"
   ]
  },
  {
   "cell_type": "code",
   "execution_count": 24,
   "id": "14a992d6-20c8-4cf8-989b-ff0fc321fd3c",
   "metadata": {},
   "outputs": [
    {
     "name": "stdout",
     "output_type": "stream",
     "text": [
      "Hlowrd\n"
     ]
    }
   ],
   "source": [
    "print(msg3[0:11:2])"
   ]
  },
  {
   "cell_type": "code",
   "execution_count": 25,
   "id": "dc991550-b391-4c04-8f87-7b61eb553831",
   "metadata": {},
   "outputs": [
    {
     "name": "stdout",
     "output_type": "stream",
     "text": [
      "Hlwl\n"
     ]
    }
   ],
   "source": [
    "print(msg3[0:11:3])"
   ]
  },
  {
   "cell_type": "code",
   "execution_count": 28,
   "id": "4040ac71-a97b-4fc5-af75-5a42f6f23741",
   "metadata": {},
   "outputs": [
    {
     "name": "stdout",
     "output_type": "stream",
     "text": [
      "Hlowrd\n"
     ]
    }
   ],
   "source": [
    "print(msg3[::2])"
   ]
  },
  {
   "cell_type": "code",
   "execution_count": 27,
   "id": "4934ee3c-e10d-422a-90c9-c89e92ffe03a",
   "metadata": {},
   "outputs": [
    {
     "name": "stdout",
     "output_type": "stream",
     "text": [
      "Hlowrd\n"
     ]
    }
   ],
   "source": [
    "print(msg3[0::2])"
   ]
  },
  {
   "cell_type": "code",
   "execution_count": 29,
   "id": "f90e439d-b195-4416-b336-2756c32b4c6d",
   "metadata": {},
   "outputs": [],
   "source": [
    "# Concatenation  # addition of two string."
   ]
  },
  {
   "cell_type": "code",
   "execution_count": 32,
   "id": "591b2c41-d376-454f-a566-b7969a031842",
   "metadata": {},
   "outputs": [
    {
     "name": "stdout",
     "output_type": "stream",
     "text": [
      "Hello world \n",
      "How many people are living on the earth?\n"
     ]
    }
   ],
   "source": [
    "message='Hello world '\n",
    "question='How many people are living on the earth?'\n",
    "print(message)\n",
    "print(question)"
   ]
  },
  {
   "cell_type": "code",
   "execution_count": 33,
   "id": "c5932aa2-d2ac-4440-9b7c-8b99c5c35983",
   "metadata": {},
   "outputs": [
    {
     "name": "stdout",
     "output_type": "stream",
     "text": [
      "Hello world How many people are living on the earth?\n"
     ]
    }
   ],
   "source": [
    "print(message+question)"
   ]
  },
  {
   "cell_type": "code",
   "execution_count": 34,
   "id": "8fff94d0-ab22-49e1-bf07-0678adf05764",
   "metadata": {},
   "outputs": [
    {
     "data": {
      "text/plain": [
       "'Hello worldHello worldHello worldHello world'"
      ]
     },
     "execution_count": 34,
     "metadata": {},
     "output_type": "execute_result"
    }
   ],
   "source": [
    "x='Hello world'\n",
    "\n",
    "4*x"
   ]
  },
  {
   "cell_type": "code",
   "execution_count": 36,
   "id": "722e0222-0612-4a5a-bb09-b03e0423ba53",
   "metadata": {},
   "outputs": [
    {
     "ename": "SyntaxError",
     "evalue": "unterminated string literal (detected at line 3) (3543035109.py, line 3)",
     "output_type": "error",
     "traceback": [
      "\u001b[1;36m  Cell \u001b[1;32mIn[36], line 3\u001b[1;36m\u001b[0m\n\u001b[1;33m    print('\\')\u001b[0m\n\u001b[1;37m          ^\u001b[0m\n\u001b[1;31mSyntaxError\u001b[0m\u001b[1;31m:\u001b[0m unterminated string literal (detected at line 3)\n"
     ]
    }
   ],
   "source": [
    "# Escape sequence   # hidden \n",
    "\n",
    "print('\\')"
   ]
  },
  {
   "cell_type": "code",
   "execution_count": 41,
   "id": "584538d7-d816-45c9-8780-30e060def3ad",
   "metadata": {},
   "outputs": [
    {
     "name": "stdout",
     "output_type": "stream",
     "text": [
      "\\\\\\\n"
     ]
    }
   ],
   "source": [
    "print('\\\\\\\\\\\\')"
   ]
  },
  {
   "cell_type": "code",
   "execution_count": 45,
   "id": "078a1a50-6fde-4966-8f39-4a38fc5e7cd5",
   "metadata": {},
   "outputs": [
    {
     "name": "stdout",
     "output_type": "stream",
     "text": [
      "Hello world\n",
      "How many people are living on the earth?\n"
     ]
    }
   ],
   "source": [
    "print('Hello world\\nHow many people are living on the earth?')   # \\n---> New line"
   ]
  },
  {
   "cell_type": "code",
   "execution_count": 46,
   "id": "9060dc4d-ec8e-475a-9df4-19eba90d16a4",
   "metadata": {},
   "outputs": [
    {
     "name": "stdout",
     "output_type": "stream",
     "text": [
      "Hello world\tHow many people are living on the earth?\n"
     ]
    }
   ],
   "source": [
    "# \\t -----> tab\n",
    "\n",
    "print('Hello world\\tHow many people are living on the earth?')"
   ]
  },
  {
   "cell_type": "markdown",
   "id": "7638e6fd-ef13-46e9-afe2-e5b1b87524da",
   "metadata": {},
   "source": [
    "# String functions"
   ]
  },
  {
   "cell_type": "code",
   "execution_count": 52,
   "id": "e946a395-c2b2-46eb-8a56-1f6e9e9086e4",
   "metadata": {},
   "outputs": [
    {
     "name": "stdout",
     "output_type": "stream",
     "text": [
      "hello world\n",
      "Upper case: HELLO WORLD\n",
      "Capitalize: Hello world\n",
      "Title: Hello World\n"
     ]
    }
   ],
   "source": [
    "message='hello world'   # case---> upper case, lower case, capitalize, title\n",
    "print(message)\n",
    "\n",
    "# convert into uppercase\n",
    "print('Upper case:',message.upper())\n",
    "\n",
    "# convert into capitalize\n",
    "print('Capitalize:',message.capitalize())\n",
    "\n",
    "# title \n",
    "print('Title:',message.title())"
   ]
  },
  {
   "cell_type": "code",
   "execution_count": 55,
   "id": "2eb880be-8d2c-48c6-b3ee-9b2dc81eee56",
   "metadata": {},
   "outputs": [
    {
     "name": "stdout",
     "output_type": "stream",
     "text": [
      "Hello Python\n",
      "Hello Shivam\n",
      "Hi Python\n"
     ]
    }
   ],
   "source": [
    "# replace()\n",
    "\n",
    "message='Hello Python'\n",
    "print(message)\n",
    "x=message.replace('Python','Shivam')\n",
    "print(x)\n",
    "\n",
    "y=message.replace('Hello','Hi')\n",
    "print(y)"
   ]
  },
  {
   "cell_type": "code",
   "execution_count": 66,
   "id": "ef175ff3-e9f4-41a2-a201-563647409792",
   "metadata": {},
   "outputs": [
    {
     "name": "stdout",
     "output_type": "stream",
     "text": [
      "6\n"
     ]
    }
   ],
   "source": [
    "# find() method\n",
    "\n",
    "msg='Hello World'\n",
    "print(msg.find('W'))"
   ]
  },
  {
   "cell_type": "code",
   "execution_count": 67,
   "id": "8c3d67f3-d140-431d-a1f7-f9c48d4235df",
   "metadata": {},
   "outputs": [
    {
     "name": "stdout",
     "output_type": "stream",
     "text": [
      "7\n"
     ]
    }
   ],
   "source": [
    "print(msg.find('orld'))"
   ]
  },
  {
   "cell_type": "code",
   "execution_count": 68,
   "id": "568ad4c2-ce08-46b2-9c8f-754114fb6084",
   "metadata": {},
   "outputs": [
    {
     "name": "stdout",
     "output_type": "stream",
     "text": [
      "-1\n"
     ]
    }
   ],
   "source": [
    "print(msg.find('Abhishek'))  # it do not anything it returns -1"
   ]
  },
  {
   "cell_type": "code",
   "execution_count": 69,
   "id": "fa6b78f1-60d6-41b7-a02e-f27e146dc0f1",
   "metadata": {},
   "outputs": [
    {
     "name": "stdout",
     "output_type": "stream",
     "text": [
      "-1\n"
     ]
    }
   ],
   "source": [
    "print(msg.find('Shivam'))"
   ]
  },
  {
   "cell_type": "code",
   "execution_count": 70,
   "id": "be31543f-d970-40c9-9634-ef908f311482",
   "metadata": {},
   "outputs": [
    {
     "name": "stdout",
     "output_type": "stream",
     "text": [
      "-1\n"
     ]
    }
   ],
   "source": [
    "print(msg.find('Anjali'))"
   ]
  },
  {
   "cell_type": "code",
   "execution_count": 71,
   "id": "61ebfe79-0c14-4700-9254-55117633dc78",
   "metadata": {},
   "outputs": [
    {
     "name": "stdout",
     "output_type": "stream",
     "text": [
      "-1\n"
     ]
    }
   ],
   "source": [
    "print(msg.find('Mukul'))"
   ]
  },
  {
   "cell_type": "code",
   "execution_count": 74,
   "id": "8dfc29cb-b13a-4854-b6dd-60dd23400ed8",
   "metadata": {},
   "outputs": [
    {
     "name": "stdout",
     "output_type": "stream",
     "text": [
      "-1\n"
     ]
    }
   ],
   "source": [
    "print(msg.find('Harry'))"
   ]
  },
  {
   "cell_type": "code",
   "execution_count": 75,
   "id": "83b5f4ef-8bcf-4565-bf38-0a7e0f67bd47",
   "metadata": {},
   "outputs": [
    {
     "name": "stdout",
     "output_type": "stream",
     "text": [
      "Hello world How many people are living on the earth?\n"
     ]
    }
   ],
   "source": [
    "x='Hello world How many people are living on the earth?'\n",
    "print(x)"
   ]
  },
  {
   "cell_type": "code",
   "execution_count": 77,
   "id": "5a17a09b-74bb-4b0e-bc82-fd3b10c7d39c",
   "metadata": {},
   "outputs": [
    {
     "name": "stdout",
     "output_type": "stream",
     "text": [
      "Hello Anjali How many people are living on the earth?\n"
     ]
    }
   ],
   "source": [
    "print(x.replace('world','Anjali'))"
   ]
  },
  {
   "cell_type": "code",
   "execution_count": 78,
   "id": "7e0baed4-3581-4ed7-b598-b04dda8f644b",
   "metadata": {},
   "outputs": [
    {
     "data": {
      "text/plain": [
       "'Hello world How many people are living on the earth?'"
      ]
     },
     "execution_count": 78,
     "metadata": {},
     "output_type": "execute_result"
    }
   ],
   "source": [
    "x"
   ]
  },
  {
   "cell_type": "code",
   "execution_count": 79,
   "id": "6ae4c88f-5e07-4b65-940e-39723ee4004b",
   "metadata": {},
   "outputs": [
    {
     "name": "stdout",
     "output_type": "stream",
     "text": [
      "2\n"
     ]
    }
   ],
   "source": [
    "# count the total character of H.\n",
    "print(x.count('H'))"
   ]
  },
  {
   "cell_type": "code",
   "execution_count": 80,
   "id": "8af32322-23fd-44ff-abae-59a06b067ecc",
   "metadata": {},
   "outputs": [
    {
     "name": "stdout",
     "output_type": "stream",
     "text": [
      "5\n"
     ]
    }
   ],
   "source": [
    "print(x.count('l'))"
   ]
  },
  {
   "cell_type": "code",
   "execution_count": 81,
   "id": "7e97d4ca-e37a-4ec8-9c4d-74edc3c7e49e",
   "metadata": {},
   "outputs": [
    {
     "name": "stdout",
     "output_type": "stream",
     "text": [
      "2\n"
     ]
    }
   ],
   "source": [
    "print(x.count('i'))"
   ]
  },
  {
   "cell_type": "code",
   "execution_count": 82,
   "id": "e2f0ceaa-2e63-4964-a107-4c93417499e5",
   "metadata": {},
   "outputs": [
    {
     "name": "stdout",
     "output_type": "stream",
     "text": [
      "6\n"
     ]
    }
   ],
   "source": [
    "print(x.count('e'))"
   ]
  },
  {
   "cell_type": "code",
   "execution_count": 85,
   "id": "a102be5c-bf4d-4c96-8532-a8f6072a51a7",
   "metadata": {},
   "outputs": [
    {
     "name": "stdout",
     "output_type": "stream",
     "text": [
      "Hello {world}\n",
      "Hello Abhishek\n",
      "Hello Anjali\n"
     ]
    }
   ],
   "source": [
    "# format() function\n",
    "\n",
    "txt='Hello {world}'   #plceholder= {} when it found inside the quotes\n",
    "\n",
    "print(txt)\n",
    "\n",
    "print(txt.format(world='Abhishek'))\n",
    "print(txt.format(world='Anjali'))"
   ]
  },
  {
   "cell_type": "code",
   "execution_count": null,
   "id": "25bee4d7-ccf3-4947-9cf0-562022793993",
   "metadata": {},
   "outputs": [],
   "source": []
  }
 ],
 "metadata": {
  "kernelspec": {
   "display_name": "Python 3 (ipykernel)",
   "language": "python",
   "name": "python3"
  },
  "language_info": {
   "codemirror_mode": {
    "name": "ipython",
    "version": 3
   },
   "file_extension": ".py",
   "mimetype": "text/x-python",
   "name": "python",
   "nbconvert_exporter": "python",
   "pygments_lexer": "ipython3",
   "version": "3.12.2"
  }
 },
 "nbformat": 4,
 "nbformat_minor": 5
}

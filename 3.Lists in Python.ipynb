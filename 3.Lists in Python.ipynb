{
 "cells": [
  {
   "cell_type": "markdown",
   "id": "71212e00-ffb1-49f3-a327-1bd965a47abb",
   "metadata": {},
   "source": [
    "# 3. Lists in Python\n",
    "\n",
    " * __Lists are ordered.__\n",
    " * __Lists can contain any arbitrary objects.__\n",
    " * __Lists elements can be accessed by index.__\n",
    " * __Lists can be nested to any arbitray depth.__\n",
    " * __Lists are mutable.__\n",
    " * __Lists are dynamic.__"
   ]
  },
  {
   "cell_type": "code",
   "execution_count": 5,
   "id": "8d79d89d-cb3c-47af-adf7-248cf67b13f9",
   "metadata": {},
   "outputs": [
    {
     "name": "stdout",
     "output_type": "stream",
     "text": [
      "['Hello world', 100, 3.14, True, False]\n",
      "<class 'list'>\n"
     ]
    }
   ],
   "source": [
    "# mutable: anything which you want to add,delete and update.\n",
    "\n",
    "x=['Hello world',100,3.14,True,False]\n",
    "print(x)\n",
    "print(type(x))"
   ]
  },
  {
   "cell_type": "code",
   "execution_count": 6,
   "id": "a8cc9a1b-e7c4-422c-88e8-d6366e5607b8",
   "metadata": {},
   "outputs": [
    {
     "name": "stdout",
     "output_type": "stream",
     "text": [
      "Hello world\n"
     ]
    }
   ],
   "source": [
    "# index value \n",
    "\n",
    "print(x[0])"
   ]
  },
  {
   "cell_type": "code",
   "execution_count": 7,
   "id": "10b640c5-b2c2-411e-8011-fbe2d6b646d8",
   "metadata": {},
   "outputs": [
    {
     "name": "stdout",
     "output_type": "stream",
     "text": [
      "100\n"
     ]
    }
   ],
   "source": [
    "print(x[1])"
   ]
  },
  {
   "cell_type": "code",
   "execution_count": 8,
   "id": "f1b7999b-4bcc-4511-9cd4-a085f958acbc",
   "metadata": {},
   "outputs": [
    {
     "name": "stdout",
     "output_type": "stream",
     "text": [
      "3.14\n"
     ]
    }
   ],
   "source": [
    "print(x[2])"
   ]
  },
  {
   "cell_type": "code",
   "execution_count": 9,
   "id": "9585806d-4195-4630-9bb2-0acade709e29",
   "metadata": {},
   "outputs": [
    {
     "name": "stdout",
     "output_type": "stream",
     "text": [
      "True\n"
     ]
    }
   ],
   "source": [
    "print(x[3])"
   ]
  },
  {
   "cell_type": "code",
   "execution_count": 10,
   "id": "891c459e-1765-4f69-af07-ff61691fdb72",
   "metadata": {},
   "outputs": [
    {
     "name": "stdout",
     "output_type": "stream",
     "text": [
      "False\n"
     ]
    }
   ],
   "source": [
    "print(x[4])"
   ]
  },
  {
   "cell_type": "code",
   "execution_count": 11,
   "id": "7b1e4054-71b8-4e5b-a249-a68972b159a8",
   "metadata": {},
   "outputs": [
    {
     "ename": "IndexError",
     "evalue": "list index out of range",
     "output_type": "error",
     "traceback": [
      "\u001b[1;31m---------------------------------------------------------------------------\u001b[0m",
      "\u001b[1;31mIndexError\u001b[0m                                Traceback (most recent call last)",
      "Cell \u001b[1;32mIn[11], line 1\u001b[0m\n\u001b[1;32m----> 1\u001b[0m \u001b[38;5;28mprint\u001b[39m(\u001b[43mx\u001b[49m\u001b[43m[\u001b[49m\u001b[38;5;241;43m5\u001b[39;49m\u001b[43m]\u001b[49m)\n",
      "\u001b[1;31mIndexError\u001b[0m: list index out of range"
     ]
    }
   ],
   "source": [
    "print(x[5])"
   ]
  },
  {
   "cell_type": "code",
   "execution_count": 12,
   "id": "3d5cffc9-b852-4d8f-b100-3d771bf944b1",
   "metadata": {},
   "outputs": [
    {
     "name": "stdout",
     "output_type": "stream",
     "text": [
      "['Hello world', 100, 3.14, True, False]\n",
      "<class 'list'>\n"
     ]
    }
   ],
   "source": [
    "x=['Hello world',100,3.14,True,False]\n",
    "print(x)\n",
    "print(type(x))"
   ]
  },
  {
   "cell_type": "code",
   "execution_count": 14,
   "id": "b7bda982-82a8-422c-86a1-437e374d8655",
   "metadata": {},
   "outputs": [
    {
     "name": "stdout",
     "output_type": "stream",
     "text": [
      "[True, False]\n"
     ]
    }
   ],
   "source": [
    "# string slicing\n",
    "print(x[3:5])"
   ]
  },
  {
   "cell_type": "code",
   "execution_count": 16,
   "id": "e9e3838d-8956-4e47-b41d-c1dc4251d6eb",
   "metadata": {},
   "outputs": [
    {
     "name": "stdout",
     "output_type": "stream",
     "text": [
      "[100, 3.14]\n"
     ]
    }
   ],
   "source": [
    "print(x[1:3])"
   ]
  },
  {
   "cell_type": "code",
   "execution_count": 19,
   "id": "f53b2cd4-81ca-47d2-9b95-faa57d07b353",
   "metadata": {},
   "outputs": [
    {
     "name": "stdout",
     "output_type": "stream",
     "text": [
      "['Hello world', 3.14]\n"
     ]
    }
   ],
   "source": [
    "print(x[0:3:2])"
   ]
  },
  {
   "cell_type": "code",
   "execution_count": 20,
   "id": "e8b3f895-cfeb-450a-8623-9cfc94c63627",
   "metadata": {},
   "outputs": [
    {
     "name": "stdout",
     "output_type": "stream",
     "text": [
      "['Hello world', 100, 3.14, True, False]\n",
      "<class 'list'>\n"
     ]
    }
   ],
   "source": [
    "x=['Hello world',100,3.14,True,False]\n",
    "print(x)\n",
    "print(type(x))"
   ]
  },
  {
   "cell_type": "code",
   "execution_count": 23,
   "id": "b7f871b6-d464-4ede-ab39-03513abfceea",
   "metadata": {},
   "outputs": [
    {
     "name": "stdout",
     "output_type": "stream",
     "text": [
      "['Hello world', True]\n"
     ]
    }
   ],
   "source": [
    "print(x[0:5:3])"
   ]
  },
  {
   "cell_type": "code",
   "execution_count": 24,
   "id": "74c29e8a-9b8f-4980-a8d1-26d98dc437de",
   "metadata": {},
   "outputs": [
    {
     "data": {
      "text/plain": [
       "['Hello world', 100, 3.14, True, False]"
      ]
     },
     "execution_count": 24,
     "metadata": {},
     "output_type": "execute_result"
    }
   ],
   "source": [
    "x"
   ]
  },
  {
   "cell_type": "code",
   "execution_count": 25,
   "id": "dc01b597-da46-43ec-816d-da75a1d7b4b4",
   "metadata": {},
   "outputs": [
    {
     "name": "stdout",
     "output_type": "stream",
     "text": [
      "[False, True, 3.14, 100, 'Hello world']\n"
     ]
    }
   ],
   "source": [
    "# how to reverse string\n",
    "print(x[::-1])"
   ]
  },
  {
   "cell_type": "code",
   "execution_count": 26,
   "id": "066c054e-50d9-4080-8c82-e1eaeb9ec1f0",
   "metadata": {},
   "outputs": [
    {
     "name": "stdout",
     "output_type": "stream",
     "text": [
      "ilajnA\n"
     ]
    }
   ],
   "source": [
    "# \n",
    "name='Anjali'\n",
    "print(name[::-1])"
   ]
  },
  {
   "cell_type": "code",
   "execution_count": 28,
   "id": "e1fce3b8-2d47-4441-8dfa-8b1940c7610f",
   "metadata": {},
   "outputs": [
    {
     "data": {
      "text/plain": [
       "'ilajnA'"
      ]
     },
     "execution_count": 28,
     "metadata": {},
     "output_type": "execute_result"
    }
   ],
   "source": [
    "name[::-1]"
   ]
  },
  {
   "cell_type": "code",
   "execution_count": 33,
   "id": "72b2db9b-35c7-4fa4-987a-52237b7bdaeb",
   "metadata": {},
   "outputs": [
    {
     "name": "stdout",
     "output_type": "stream",
     "text": [
      "?htrae eht no gnivil era elpoep ynam woH dlrow olleH\n",
      "<class 'str'>\n"
     ]
    }
   ],
   "source": [
    "text='Hello world How many people are living on the earth?'\n",
    "print(text[::-1])\n",
    "print(type(text))"
   ]
  },
  {
   "cell_type": "code",
   "execution_count": 34,
   "id": "f5077f0c-9f4b-46b0-aa1c-a38a474326e2",
   "metadata": {},
   "outputs": [
    {
     "name": "stdout",
     "output_type": "stream",
     "text": [
      "['earth', 'the', 'on', 'living', 'are', 'people', 'many', 'How', 'world', 'Hello']\n",
      "<class 'list'>\n"
     ]
    }
   ],
   "source": [
    "lst=['Hello', 'world', 'How', 'many', 'people', 'are' ,'living' ,'on','the','earth']\n",
    "print(lst[::-1])\n",
    "print(type(lst))"
   ]
  },
  {
   "cell_type": "code",
   "execution_count": null,
   "id": "2c4e334e-2111-4e43-9c8c-7ddb81834825",
   "metadata": {},
   "outputs": [],
   "source": []
  }
 ],
 "metadata": {
  "kernelspec": {
   "display_name": "Python 3 (ipykernel)",
   "language": "python",
   "name": "python3"
  },
  "language_info": {
   "codemirror_mode": {
    "name": "ipython",
    "version": 3
   },
   "file_extension": ".py",
   "mimetype": "text/x-python",
   "name": "python",
   "nbconvert_exporter": "python",
   "pygments_lexer": "ipython3",
   "version": "3.12.2"
  }
 },
 "nbformat": 4,
 "nbformat_minor": 5
}
